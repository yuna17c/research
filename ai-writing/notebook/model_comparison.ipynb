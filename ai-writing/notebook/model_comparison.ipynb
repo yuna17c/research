{
 "cells": [
  {
   "cell_type": "code",
   "execution_count": 8,
   "metadata": {},
   "outputs": [
    {
     "name": "stdout",
     "output_type": "stream",
     "text": [
      "Hello!\n",
      "\n",
      "Nice to meet you too. How can I assist you today?\n"
     ]
    }
   ],
   "source": [
    "# Original model\n",
    "import os\n",
    "from openai import AzureOpenAI\n",
    "from dotenv import load_dotenv\n",
    "load_dotenv('../.env')\n",
    "\n",
    "endpoint = os.getenv(\"AZURE_OPENAI_ENDPOINT\");\n",
    "apiKey = os.getenv(\"AZURE_OPENAI_KEY\");\n",
    "\n",
    "client = AzureOpenAI(\n",
    "    api_key=os.getenv(\"AZURE_OPENAI_KEY\"),\n",
    "    api_version=\"2023-05-15\",\n",
    "    azure_endpoint = os.getenv(\"AZURE_OPENAI_ENDPOINT\")\n",
    ")\n",
    "    \n",
    "deployment_name='gpt4' \n",
    "start_phrase = ' hello nice to meet you.'\n",
    "instruction = \"You are a helpful assistant to write an email.\"\n",
    "response = client.chat.completions.create(\n",
    "    messages= [\n",
    "        {\"role\": \"system\", \"content\": instruction},\n",
    "        {\"role\": \"user\", \"content\": start_phrase},\n",
    "      ],\n",
    "      model=\"gpt4\"\n",
    "    )\n",
    "print(response.choices[0].message.content)"
   ]
  },
  {
   "cell_type": "code",
   "execution_count": null,
   "metadata": {},
   "outputs": [],
   "source": [
    "# Finetuned models\n",
    "import os\n",
    "from openai import AzureOpenAI\n",
    "from dotenv import load_dotenv\n",
    "load_dotenv('../.env.local')\n",
    "\n",
    "endpoint = os.getenv(\"AZURE_OPENAI_ENDPOINT\");\n",
    "apiKey = os.getenv(\"AZURE_OPENAI_KEY\");\n",
    "\n",
    "client = AzureOpenAI(\n",
    "    api_key=os.getenv(\"AZURE_OPENAI_KEY\"),\n",
    "    api_version=\"2023-03-15-preview\",\n",
    "    azure_endpoint = os.getenv(\"AZURE_OPENAI_ENDPOINT\")\n",
    "    )\n",
    "    \n",
    "deployment_name='selena_completion' \n",
    "start_phrase = ' hello.  '\n",
    "response = client.completions.create(model=deployment_name, prompt=start_phrase, max_tokens=32, temperature=1)\n",
    "print(start_phrase+response.choices[0].text)"
   ]
  }
 ],
 "metadata": {
  "kernelspec": {
   "display_name": ".venv",
   "language": "python",
   "name": "python3"
  },
  "language_info": {
   "codemirror_mode": {
    "name": "ipython",
    "version": 3
   },
   "file_extension": ".py",
   "mimetype": "text/x-python",
   "name": "python",
   "nbconvert_exporter": "python",
   "pygments_lexer": "ipython3",
   "version": "3.9.5"
  }
 },
 "nbformat": 4,
 "nbformat_minor": 2
}
