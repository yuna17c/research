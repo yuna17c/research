{
 "cells": [
  {
   "cell_type": "code",
   "execution_count": 87,
   "metadata": {},
   "outputs": [
    {
     "name": "stdout",
     "output_type": "stream",
     "text": [
      "Dataset already exists at C:\\Users\\Yuna\\.convokit\\downloads\\wikipedia-politeness-corpus\n"
     ]
    }
   ],
   "source": [
    "from convokit import Corpus, download\n",
    "corpus = Corpus(filename=download(\"wikipedia-politeness-corpus\"))"
   ]
  },
  {
   "cell_type": "code",
   "execution_count": 88,
   "metadata": {},
   "outputs": [],
   "source": [
    "import pandas as pd\n",
    "import numpy as np\n",
    "utt_txt = []\n",
    "politeness = []\n",
    "for utt in corpus.iter_utterances():\n",
    "    utt_txt.append(utt.text)\n",
    "    politeness.append(utt.meta['Binary'])"
   ]
  },
  {
   "cell_type": "code",
   "execution_count": 89,
   "metadata": {},
   "outputs": [],
   "source": [
    "import re\n",
    "questions = []\n",
    "txt = []\n",
    "patt = '(.+[.?!:])(.+\\?)'\n",
    "for utt in utt_txt:\n",
    "    t = re.split(patt, utt)\n",
    "    if len(t)==4:\n",
    "        txt.append(t[1])\n",
    "        questions.append(t[2])\n",
    "    else:\n",
    "        txt.append(np.nan)\n",
    "        questions.append(np.nan)\n"
   ]
  },
  {
   "cell_type": "code",
   "execution_count": 90,
   "metadata": {},
   "outputs": [
    {
     "data": {
      "text/html": [
       "<div>\n",
       "<style scoped>\n",
       "    .dataframe tbody tr th:only-of-type {\n",
       "        vertical-align: middle;\n",
       "    }\n",
       "\n",
       "    .dataframe tbody tr th {\n",
       "        vertical-align: top;\n",
       "    }\n",
       "\n",
       "    .dataframe thead th {\n",
       "        text-align: right;\n",
       "    }\n",
       "</style>\n",
       "<table border=\"1\" class=\"dataframe\">\n",
       "  <thead>\n",
       "    <tr style=\"text-align: right;\">\n",
       "      <th></th>\n",
       "      <th>prompt</th>\n",
       "      <th>completion</th>\n",
       "      <th>politeness</th>\n",
       "    </tr>\n",
       "  </thead>\n",
       "  <tbody>\n",
       "    <tr>\n",
       "      <th>0</th>\n",
       "      <td>Where did you learn English?</td>\n",
       "      <td>How come you're taking on a third language?</td>\n",
       "      <td>-1</td>\n",
       "    </tr>\n",
       "    <tr>\n",
       "      <th>1</th>\n",
       "      <td>Thanks very much for your edit to the &lt;url&gt; ar...</td>\n",
       "      <td>Would you be interested in tackling the &lt;url&gt;...</td>\n",
       "      <td>1</td>\n",
       "    </tr>\n",
       "    <tr>\n",
       "      <th>2</th>\n",
       "      <td>Sir i think u hav many friends on wiki who can...</td>\n",
       "      <td>can u pls consult any of them?</td>\n",
       "      <td>0</td>\n",
       "    </tr>\n",
       "    <tr>\n",
       "      <th>3</th>\n",
       "      <td>I can't find it.</td>\n",
       "      <td>Maybe I didn't manage to guess the right nam...</td>\n",
       "      <td>0</td>\n",
       "    </tr>\n",
       "    <tr>\n",
       "      <th>4</th>\n",
       "      <td>I can't spend too much time, and I'm no specia...</td>\n",
       "      <td>Btw, how is your name pronounced?</td>\n",
       "      <td>0</td>\n",
       "    </tr>\n",
       "  </tbody>\n",
       "</table>\n",
       "</div>"
      ],
      "text/plain": [
       "                                              prompt  \\\n",
       "0                       Where did you learn English?   \n",
       "1  Thanks very much for your edit to the <url> ar...   \n",
       "2  Sir i think u hav many friends on wiki who can...   \n",
       "3                                   I can't find it.   \n",
       "4  I can't spend too much time, and I'm no specia...   \n",
       "\n",
       "                                          completion  politeness  \n",
       "0        How come you're taking on a third language?          -1  \n",
       "1   Would you be interested in tackling the <url>...           1  \n",
       "2                     can u pls consult any of them?           0  \n",
       "3    Maybe I didn't manage to guess the right nam...           0  \n",
       "4                  Btw, how is your name pronounced?           0  "
      ]
     },
     "execution_count": 90,
     "metadata": {},
     "output_type": "execute_result"
    }
   ],
   "source": [
    "df = pd.DataFrame({'prompt':txt, 'completion': questions, 'politeness':politeness})\n",
    "df = df.dropna()\n",
    "df.head()"
   ]
  },
  {
   "cell_type": "code",
   "execution_count": 102,
   "metadata": {},
   "outputs": [],
   "source": [
    "import json\n",
    "import random\n",
    "\n",
    "def get_data(politeness_val, filename):\n",
    "    sub_df = df[df['politeness']==politeness_val]\n",
    "    dic = sub_df[['prompt', 'completion']].to_dict(orient='records')\n",
    "    random.shuffle(dic)\n",
    "    split_idx = int(len(dic)*0.8)\n",
    "    train_dic = dic[:split_idx]\n",
    "    valid_dic = dic[split_idx:]\n",
    "    with open(filename+'_train.jsonl', 'w') as f:\n",
    "        for item in train_dic:\n",
    "            f.write(json.dumps(item) + \"\\n\")\n",
    "    with open(filename+'_valid.jsonl', 'w') as f:\n",
    "        for item in valid_dic:\n",
    "            f.write(json.dumps(item) + \"\\n\")\n",
    "\n",
    "get_data(1, \"polite_dat\")\n",
    "get_data(-1, \"impolite_dat\")"
   ]
  }
 ],
 "metadata": {
  "kernelspec": {
   "display_name": ".venv",
   "language": "python",
   "name": "python3"
  },
  "language_info": {
   "codemirror_mode": {
    "name": "ipython",
    "version": 3
   },
   "file_extension": ".py",
   "mimetype": "text/x-python",
   "name": "python",
   "nbconvert_exporter": "python",
   "pygments_lexer": "ipython3",
   "version": "3.9.5"
  }
 },
 "nbformat": 4,
 "nbformat_minor": 2
}
