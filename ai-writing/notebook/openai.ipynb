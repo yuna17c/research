{
 "cells": [
  {
   "cell_type": "code",
   "execution_count": 1,
   "metadata": {},
   "outputs": [],
   "source": [
    "from openai import OpenAI\n",
    "from dotenv import load_dotenv\n",
    "\n",
    "load_dotenv('../.env.local')\n",
    "client = OpenAI()\n",
    "\n",
    "def complete_sentence(prompt: str, temp: int = 1, max_tokens: int = 50, n: int = 3, top_p: int = 0.55) -> str:\n",
    "    response = client.chat.completions.create(\n",
    "      model=\"gpt-3.5-turbo\",\n",
    "      messages=[\n",
    "        {\"role\": \"system\", \"content\": \"You are a helpful assistant who completes the sentence of a user who is writing an email.\"},\n",
    "        {\"role\": \"user\", \"content\": prompt},\n",
    "      ],\n",
    "      temperature=temp,\n",
    "      max_tokens=max_tokens,\n",
    "      n=n,\n",
    "      top_p=top_p\n",
    "    )\n",
    "    return response\n",
    "\n",
    "response = complete_sentence(\"Hi Ms. Wexler, how are you doing? I wanted\")\n",
    "   "
   ]
  },
  {
   "cell_type": "code",
   "execution_count": 2,
   "metadata": {},
   "outputs": [
    {
     "data": {
      "text/plain": [
       "ChatCompletionMessage(content='to follow up on the project timeline.', role='assistant', function_call=None, tool_calls=None)"
      ]
     },
     "execution_count": 2,
     "metadata": {},
     "output_type": "execute_result"
    }
   ],
   "source": [
    "response.choices[0].message"
   ]
  },
  {
   "cell_type": "code",
   "execution_count": 3,
   "metadata": {},
   "outputs": [
    {
     "data": {
      "text/plain": [
       "'to follow up on the project timeline.'"
      ]
     },
     "execution_count": 3,
     "metadata": {},
     "output_type": "execute_result"
    }
   ],
   "source": [
    "response.choices[0].message.content"
   ]
  }
 ],
 "metadata": {
  "kernelspec": {
   "display_name": ".venv",
   "language": "python",
   "name": "python3"
  },
  "language_info": {
   "codemirror_mode": {
    "name": "ipython",
    "version": 3
   },
   "file_extension": ".py",
   "mimetype": "text/x-python",
   "name": "python",
   "nbconvert_exporter": "python",
   "pygments_lexer": "ipython3",
   "version": "3.9.5"
  }
 },
 "nbformat": 4,
 "nbformat_minor": 2
}
