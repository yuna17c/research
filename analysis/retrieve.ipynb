{
 "cells": [
  {
   "cell_type": "code",
   "execution_count": 1,
   "metadata": {},
   "outputs": [],
   "source": [
    "from retrieve import format_to_df, firebase_initialize\n",
    "\n",
    "# Run once\n",
    "firebase_initialize('ai-writing-45138-f0d64e9114cc.json')"
   ]
  },
  {
   "cell_type": "code",
   "execution_count": 7,
   "metadata": {},
   "outputs": [],
   "source": [
    "df = format_to_df()"
   ]
  },
  {
   "cell_type": "code",
   "execution_count": 136,
   "metadata": {},
   "outputs": [],
   "source": [
    "df.to_csv('output.csv')"
   ]
  },
  {
   "cell_type": "code",
   "execution_count": 17,
   "metadata": {},
   "outputs": [
    {
     "name": "stdout",
     "output_type": "stream",
     "text": [
      "[{'eventTimestamp': 1726941735000, 'textDelta': 'Shift', 'currentCursor': 0, 'eventName': 'text-insert'}, {'eventTimestamp': 1726941735560, 'textDelta': 'H', 'currentCursor': 0, 'eventName': 'text-insert'}, {'eventTimestamp': 1726941735865, 'textDelta': 'i', 'currentCursor': 1, 'eventName': 'text-insert'}, {'eventTimestamp': 1726941736066, 'textDelta': ',', 'currentCursor': 2, 'eventName': 'text-insert'}, {'eventTimestamp': 1726941736238, 'textDelta': ' ', 'currentCursor': 3, 'eventName': 'text-insert'}, {'eventTimestamp': 1726941736569, 'textDelta': 'w', 'currentCursor': 4, 'eventName': 'text-insert'}, {'eventTimestamp': 1726941736634, 'textDelta': 'h', 'currentCursor': 5, 'eventName': 'text-insert'}, {'eventTimestamp': 1726941736704, 'textDelta': 'a', 'currentCursor': 6, 'eventName': 'text-insert'}, {'eventTimestamp': 1726941736817, 'textDelta': 't', 'currentCursor': 7, 'eventName': 'text-insert'}, {'eventTimestamp': 1726941736886, 'textDelta': \"'\", 'currentCursor': 8, 'eventName': 'text-insert'}, {'eventTimestamp': 1726941737027, 'textDelta': 's', 'currentCursor': 9, 'eventName': 'text-insert'}, {'eventTimestamp': 1726941737121, 'textDelta': ' ', 'currentCursor': 10, 'eventName': 'text-insert'}, {'eventTimestamp': 1726941737186, 'textDelta': 'u', 'currentCursor': 11, 'eventName': 'text-insert'}, {'eventTimestamp': 1726941737259, 'textDelta': 'p', 'currentCursor': 12, 'eventName': 'text-insert'}, {'eventTimestamp': 1726941737482, 'textDelta': 'Shift', 'currentCursor': 13, 'eventName': 'text-insert'}, {'eventTimestamp': 1726941737538, 'textDelta': '?', 'currentCursor': 13, 'eventName': 'text-insert'}, {'eventTimestamp': 1726941738397, 'textDelta': ' ', 'currentCursor': 14, 'eventName': 'text-insert'}, {'eventTimestamp': 1726941743937, 'textDelta': \"I hope you're doing absolutely fantastic! 😊\\n\\nI wanted to touch base about our group project. We've made some good progress and have put together a preliminary\", 'currentCursor': 15, 'eventName': 'suggestion-generate'}, {'eventTimestamp': 1726941745568, 'textDelta': '', 'currentCursor': 15, 'eventName': 'suggestion-accept'}, {'eventTimestamp': 1726941749185, 'textDelta': '.', 'currentCursor': 172, 'eventName': 'text-insert'}, {'eventTimestamp': 1726941749708, 'textDelta': '\\n', 'currentCursor': 173, 'eventName': 'text-insert'}, {'eventTimestamp': 1726941749935, 'textDelta': '\\n', 'currentCursor': 173, 'eventName': 'text-insert'}, {'eventTimestamp': 1726941750155, 'textDelta': 'Shift', 'currentCursor': 173, 'eventName': 'text-insert'}, {'eventTimestamp': 1726941750236, 'textDelta': 'D', 'currentCursor': 173, 'eventName': 'text-insert'}, {'eventTimestamp': 1726941750420, 'textDelta': 'i', 'currentCursor': 174, 'eventName': 'text-insert'}, {'eventTimestamp': 1726941750534, 'textDelta': ' ', 'currentCursor': 175, 'eventName': 'text-insert'}, {'eventTimestamp': 1726941750592, 'textDelta': 'd', 'currentCursor': 176, 'eventName': 'text-insert'}, {'eventTimestamp': 1726941750938, 'textDelta': '', 'currentCursor': 177, 'eventName': 'text-delete'}, {'eventTimestamp': 1726941751060, 'textDelta': '', 'currentCursor': 176, 'eventName': 'text-delete'}, {'eventTimestamp': 1726941751120, 'textDelta': 'd', 'currentCursor': 175, 'eventName': 'text-insert'}, {'eventTimestamp': 1726941751232, 'textDelta': ' ', 'currentCursor': 176, 'eventName': 'text-insert'}, {'eventTimestamp': 1726941751364, 'textDelta': 'y', 'currentCursor': 177, 'eventName': 'text-insert'}, {'eventTimestamp': 1726941751457, 'textDelta': 'o', 'currentCursor': 178, 'eventName': 'text-insert'}, {'eventTimestamp': 1726941751567, 'textDelta': 'u', 'currentCursor': 179, 'eventName': 'text-insert'}, {'eventTimestamp': 1726941751629, 'textDelta': ' ', 'currentCursor': 180, 'eventName': 'text-insert'}, {'eventTimestamp': 1726941751682, 'textDelta': 'w', 'currentCursor': 181, 'eventName': 'text-insert'}, {'eventTimestamp': 1726941751816, 'textDelta': 'a', 'currentCursor': 182, 'eventName': 'text-insert'}, {'eventTimestamp': 1726941751921, 'textDelta': 'n', 'currentCursor': 183, 'eventName': 'text-insert'}, {'eventTimestamp': 1726941752017, 'textDelta': 't', 'currentCursor': 184, 'eventName': 'text-insert'}, {'eventTimestamp': 1726941752156, 'textDelta': ' ', 'currentCursor': 185, 'eventName': 'text-insert'}, {'eventTimestamp': 1726941752231, 'textDelta': 't', 'currentCursor': 186, 'eventName': 'text-insert'}, {'eventTimestamp': 1726941752340, 'textDelta': 'o', 'currentCursor': 187, 'eventName': 'text-insert'}, {'eventTimestamp': 1726941752370, 'textDelta': ' ', 'currentCursor': 188, 'eventName': 'text-insert'}, {'eventTimestamp': 1726941752528, 'textDelta': 'm', 'currentCursor': 189, 'eventName': 'text-insert'}, {'eventTimestamp': 1726941752623, 'textDelta': 'e', 'currentCursor': 190, 'eventName': 'text-insert'}, {'eventTimestamp': 1726941752764, 'textDelta': 'e', 'currentCursor': 191, 'eventName': 'text-insert'}, {'eventTimestamp': 1726941752886, 'textDelta': 't', 'currentCursor': 192, 'eventName': 'text-insert'}, {'eventTimestamp': 1726941752976, 'textDelta': ' ', 'currentCursor': 193, 'eventName': 'text-insert'}, {'eventTimestamp': 1726941753091, 'textDelta': 't', 'currentCursor': 194, 'eventName': 'text-insert'}, {'eventTimestamp': 1726941753168, 'textDelta': 'o', 'currentCursor': 195, 'eventName': 'text-insert'}, {'eventTimestamp': 1726941753269, 'textDelta': 'd', 'currentCursor': 196, 'eventName': 'text-insert'}, {'eventTimestamp': 1726941753368, 'textDelta': 'a', 'currentCursor': 197, 'eventName': 'text-insert'}, {'eventTimestamp': 1726941753419, 'textDelta': 'y', 'currentCursor': 198, 'eventName': 'text-insert'}, {'eventTimestamp': 1726941753641, 'textDelta': 'Shift', 'currentCursor': 199, 'eventName': 'text-insert'}, {'eventTimestamp': 1726941753757, 'textDelta': '?', 'currentCursor': 199, 'eventName': 'text-insert'}, {'eventTimestamp': 1726941755388, 'textDelta': '', 'currentCursor': 0, 'eventName': 'Click-next'}]\n",
      "[{'eventTimestamp': 1726941778613, 'textDelta': 'Shift', 'currentCursor': 0, 'eventName': 'text-insert'}, {'eventTimestamp': 1726941778711, 'textDelta': 'H', 'currentCursor': 0, 'eventName': 'text-insert'}, {'eventTimestamp': 1726941778915, 'textDelta': 'i', 'currentCursor': 1, 'eventName': 'text-insert'}, {'eventTimestamp': 1726941779028, 'textDelta': ' ', 'currentCursor': 2, 'eventName': 'text-insert'}, {'eventTimestamp': 1726941779140, 'textDelta': 'Shift', 'currentCursor': 3, 'eventName': 'text-insert'}, {'eventTimestamp': 1726941779211, 'textDelta': 'J', 'currentCursor': 3, 'eventName': 'text-insert'}, {'eventTimestamp': 1726941779303, 'textDelta': 'A', 'currentCursor': 4, 'eventName': 'text-insert'}, {'eventTimestamp': 1726941779405, 'textDelta': 'i', 'currentCursor': 5, 'eventName': 'text-insert'}, {'eventTimestamp': 1726941779567, 'textDelta': 'm', 'currentCursor': 6, 'eventName': 'text-insert'}, {'eventTimestamp': 1726941780035, 'textDelta': '', 'currentCursor': 7, 'eventName': 'text-delete'}, {'eventTimestamp': 1726941780177, 'textDelta': '', 'currentCursor': 6, 'eventName': 'text-delete'}, {'eventTimestamp': 1726941780337, 'textDelta': '', 'currentCursor': 5, 'eventName': 'text-delete'}, {'eventTimestamp': 1726941780476, 'textDelta': '', 'currentCursor': 4, 'eventName': 'text-delete'}, {'eventTimestamp': 1726941780823, 'textDelta': 'Shift', 'currentCursor': 3, 'eventName': 'text-insert'}, {'eventTimestamp': 1726941780860, 'textDelta': 'J', 'currentCursor': 3, 'eventName': 'text-insert'}, {'eventTimestamp': 1726941781125, 'textDelta': 'a', 'currentCursor': 4, 'eventName': 'text-insert'}, {'eventTimestamp': 1726941781226, 'textDelta': 'i', 'currentCursor': 5, 'eventName': 'text-insert'}, {'eventTimestamp': 1726941781449, 'textDelta': 'm', 'currentCursor': 6, 'eventName': 'text-insert'}, {'eventTimestamp': 1726941781612, 'textDelta': 'i', 'currentCursor': 7, 'eventName': 'text-insert'}, {'eventTimestamp': 1726941781981, 'textDelta': '', 'currentCursor': 8, 'eventName': 'text-delete'}, {'eventTimestamp': 1726941782138, 'textDelta': '', 'currentCursor': 7, 'eventName': 'text-delete'}, {'eventTimestamp': 1726941782278, 'textDelta': '', 'currentCursor': 6, 'eventName': 'text-delete'}, {'eventTimestamp': 1726941782468, 'textDelta': 'm', 'currentCursor': 5, 'eventName': 'text-insert'}, {'eventTimestamp': 1726941782620, 'textDelta': 'i', 'currentCursor': 6, 'eventName': 'text-insert'}, {'eventTimestamp': 1726941782713, 'textDelta': 'e', 'currentCursor': 7, 'eventName': 'text-insert'}, {'eventTimestamp': 1726941782824, 'textDelta': ',', 'currentCursor': 8, 'eventName': 'text-insert'}, {'eventTimestamp': 1726941783527, 'textDelta': ' ', 'currentCursor': 9, 'eventName': 'text-insert'}, {'eventTimestamp': 1726941784120, 'textDelta': '', 'currentCursor': 10, 'eventName': 'text-delete'}, {'eventTimestamp': 1726941784269, 'textDelta': '', 'currentCursor': 9, 'eventName': 'text-delete'}, {'eventTimestamp': 1726941784425, 'textDelta': 'Shift', 'currentCursor': 8, 'eventName': 'text-insert'}, {'eventTimestamp': 1726941784485, 'textDelta': '!', 'currentCursor': 8, 'eventName': 'text-insert'}, {'eventTimestamp': 1726941784739, 'textDelta': '\\n', 'currentCursor': 9, 'eventName': 'text-insert'}, {'eventTimestamp': 1726941785146, 'textDelta': '\\n', 'currentCursor': 9, 'eventName': 'text-insert'}, {'eventTimestamp': 1726941788081, 'textDelta': 'I hope you are doing well. I had been wondering if you might provide an update on your part of the project. There wouldn’t, I suppose', 'currentCursor': 9, 'eventName': 'suggestion-generate'}, {'eventTimestamp': 1726941789313, 'textDelta': '', 'currentCursor': 9, 'eventName': 'suggestion-accept'}, {'eventTimestamp': 1726941790722, 'textDelta': '', 'currentCursor': 9, 'eventName': 'text-delete'}, {'eventTimestamp': 1726941794082, 'textDelta': 'Shift', 'currentCursor': 142, 'eventName': 'text-insert'}, {'eventTimestamp': 1726941794166, 'textDelta': '?', 'currentCursor': 142, 'eventName': 'text-insert'}, {'eventTimestamp': 1726941796179, 'textDelta': '', 'currentCursor': 0, 'eventName': 'Click-next'}]\n"
     ]
    }
   ],
   "source": [
    "from firebase_admin import firestore\n",
    "\n",
    "def get_key(option, key_lst):\n",
    "    is_pos = -1 if key_lst[0].find('pos')==-1 else 1\n",
    "    if is_pos*option==1 or is_pos*option==-2:\n",
    "        return key_lst\n",
    "    key_lst.reverse()\n",
    "    return key_lst\n",
    "\n",
    "db = firestore.client()\n",
    "docs = db.collection('user-input').stream()\n",
    "for doc in docs:\n",
    "    content = doc.to_dict()\n",
    "    logs = content['logs']\n",
    "    keys = get_key(content['option'], list(logs.keys()))\n",
    "    for key in keys:\n",
    "        start_time = logs[key][0]['eventTimestamp']\n",
    "        end_time = logs[key][-1]['eventTimestamp']\n",
    "    break\n",
    "\n",
    "    "
   ]
  }
 ],
 "metadata": {
  "kernelspec": {
   "display_name": "Python 3",
   "language": "python",
   "name": "python3"
  },
  "language_info": {
   "codemirror_mode": {
    "name": "ipython",
    "version": 3
   },
   "file_extension": ".py",
   "mimetype": "text/x-python",
   "name": "python",
   "nbconvert_exporter": "python",
   "pygments_lexer": "ipython3",
   "version": "3.9.5"
  }
 },
 "nbformat": 4,
 "nbformat_minor": 2
}
