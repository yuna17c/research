{
 "cells": [
  {
   "cell_type": "code",
   "execution_count": 1,
   "metadata": {},
   "outputs": [],
   "source": [
    "from retrieve import format_to_df, firebase_initialize\n",
    "\n",
    "# Run once\n",
    "firebase_initialize('ai-writing-45138-f0d64e9114cc.json')"
   ]
  },
  {
   "cell_type": "code",
   "execution_count": null,
   "metadata": {},
   "outputs": [],
   "source": [
    "df = format_to_df()"
   ]
  },
  {
   "cell_type": "code",
   "execution_count": null,
   "metadata": {},
   "outputs": [],
   "source": [
    "df.to_csv('output.csv')"
   ]
  },
  {
   "cell_type": "code",
   "execution_count": 2,
   "metadata": {},
   "outputs": [],
   "source": [
    "import pandas as pd \n",
    "from utils import calculate_accepted_suggestions\n",
    "\n",
    "p, l = calculate_accepted_suggestions()\n",
    "    "
   ]
  },
  {
   "cell_type": "code",
   "execution_count": 10,
   "metadata": {},
   "outputs": [
    {
     "name": "stdout",
     "output_type": "stream",
     "text": [
      "                           3-pos   1-neg\n",
      "55cff4a834e9060012e57407  0.4062  0.4843\n",
      "\n",
      "-----------------\n",
      "                                 3-pos        1-neg\n",
      "55cff4a834e9060012e57407  [797, 1962]  [540, 1115]\n"
     ]
    }
   ],
   "source": [
    "percents_df = pd.DataFrame.from_dict(orient='index', data=p)\n",
    "print(percents_df)\n",
    "lengths_df = pd.DataFrame.from_dict(orient='index', data=l)\n",
    "print(\"\\n-----------------\\n\",lengths_df)"
   ]
  },
  {
   "cell_type": "code",
   "execution_count": null,
   "metadata": {},
   "outputs": [],
   "source": [
    "percents_df.to_csv(\"percent_accept.csv\")"
   ]
  }
 ],
 "metadata": {
  "kernelspec": {
   "display_name": "Python 3",
   "language": "python",
   "name": "python3"
  },
  "language_info": {
   "codemirror_mode": {
    "name": "ipython",
    "version": 3
   },
   "file_extension": ".py",
   "mimetype": "text/x-python",
   "name": "python",
   "nbconvert_exporter": "python",
   "pygments_lexer": "ipython3",
   "version": "3.9.5"
  }
 },
 "nbformat": 4,
 "nbformat_minor": 2
}
