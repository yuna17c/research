{
 "cells": [
  {
   "cell_type": "code",
   "execution_count": 1,
   "metadata": {},
   "outputs": [],
   "source": [
    "from retrieve import format_to_df, firebase_initialize\n",
    "\n",
    "# Run once\n",
    "firebase_initialize('ai-writing-45138-f0d64e9114cc.json')"
   ]
  },
  {
   "cell_type": "markdown",
   "metadata": {},
   "source": [
    "**formatting data to dataframe**"
   ]
  },
  {
   "cell_type": "code",
   "execution_count": 2,
   "metadata": {},
   "outputs": [],
   "source": [
    "df = format_to_df()"
   ]
  },
  {
   "cell_type": "code",
   "execution_count": 3,
   "metadata": {},
   "outputs": [],
   "source": [
    "df.to_csv('output.csv')"
   ]
  },
  {
   "cell_type": "markdown",
   "metadata": {},
   "source": [
    "**Calculate Percentage of Suggestion Accept**"
   ]
  },
  {
   "cell_type": "code",
   "execution_count": 4,
   "metadata": {},
   "outputs": [
    {
     "name": "stdout",
     "output_type": "stream",
     "text": [
      "['insightful guidance during our last meeting Your suggestions were absolutely marvelous and have already made a significant impact on our project \\n\\nWe have put together', 'project outline Your insights were absolutely marvelous and have already made a significant difference in our approach\\n\\nI was wondering if you could take a look at our', 'current draft and provide any additional insights or suggestions Your expertise has been absolutely invaluable to us and we would love to hear your thoughts on how we', 'perhaps provide some additional insights or suggestions Your expertise is absolutely invaluable to us and I believe your input could really elevate our presentation\\n\\nAlso if', 'the impact of renewable energy solutions in urban areas I’ve attached the latest version of the outline for your review \\n\\nIf you have any specific resources', \"product line and I'm aiming to highlight innovative approaches that can capture our target audience's attention If you have any recommended resources or recent studies that could\", 'enhance our research I would be incredibly grateful Your knowledge in this field is just extraordinary and I know you might have some fantastic materials that', \"further enrich our research I would be absolutely thrilled to explore them Your guidance has always been spot-on and I'm confident that any additional resources\", \"further enhance our understanding that would be fantastic\\n\\nI understand you're incredibly busy but any time you could spare to review our draft would be greatly\", \"appreciated We're aiming to make this project as comprehensive and impactful as possible and your guidance has always been spot-on\\n\\nAlso if there's\", 'Thank you so much for considering our request We’re really looking forward to hearing your thoughts and suggestions Your support means the world to us and', \"Thanks a million Dr Morgan We're really excited about this project and your support means the world to us If there's a convenient time for you\"]\n",
      "['insightful guidance during our last meeting Your suggestions were absolutely marvelous and have already made a significant impact on our project \\n\\nWe have put together', 'project outline Your insights were absolutely marvelous and have already made a significant difference in our approach\\n\\nI was wondering if you could take a look at our', 'perhaps provide some additional insights or suggestions Your expertise is absolutely invaluable to us and I believe your input could really elevate our presentation\\n\\nAlso if', \"product line and I'm aiming to highlight innovative approaches that can capture our target audience's attention If you have any recommended resources or recent studies that could\", \"further enhance our understanding that would be fantastic\\n\\nI understand you're incredibly busy but any time you could spare to review our draft would be greatly\", \"appreciated We're aiming to make this project as comprehensive and impactful as possible and your guidance has always been spot-on\\n\\nAlso if there's\", \"Thanks a million Dr Morgan We're really excited about this project and your support means the world to us If there's a convenient time for you\"]\n",
      "['guidance', 'during', 'our', 'last', 'meeting', 'our', 'project', 'project', 'outline', 'I', 'was', 'wondering', 'if', 'you', 'could', 'take', 'a', 'look', 'at', 'our', 'perhaps', 'provide', 'some', 'additional', 'insights', 'or', 'suggestions', 'Your', 'expertise', 'is', 'absolutely', 'invaluable', 'to', 'us', 'and', 'I', 'believe', 'your', 'input', 'could', 'really', 'elevate', 'our', 'presentation', 'if', 'product', 'line', 'and', \"I'm\", 'aiming', 'to', 'highlight', 'innovative', 'approaches', 'that', 'can', 'capture', 'our', 'target', \"audience's\", 'attention', 'If', 'you', 'have', 'any', 'recommended', 'resources', 'or', 'recent', 'studies', 'that', 'could', 'further', 'enhance', 'our', 'understanding', 'that', 'would', 'be', 'fantastic', 'I', 'understand', \"you're\", 'incredibly', 'busy', 'but', 'any', 'time', 'you', 'could', 'spare', 'to', 'review', 'our', 'draft', 'would', 'be', 'greatly', 'appreciated', \"We're\", 'aiming', 'to', 'make', 'this', 'project', 'as', 'comprehensive', 'and', 'impactful', 'as', 'possible', 'and', 'your', 'guidance', 'has', 'always', 'been', 'spot-on', 'Dr', 'Morgan', \"We're\", 'really', 'excited', 'about', 'this', 'project', 'and', 'your', 'support', 'means', 'the', 'world', 'to', 'us', 'for', 'you']\n",
      "['I hope this email finds you well I had been wondering if I could possibly trouble you to clarify a concept from our recent class discussion on quantum ent', 'anglement I understand that you must be very busy but I am having some difficulty grasping the intricacies of this topic Could you perhaps', 'additional study materials or resources that might help elucidate this concept further \\n\\nI would be immensely grateful for any guidance you could provide I apologize for', 'any inconvenience this request may cause I am aware that your time is valuable and I deeply appreciate your assistance\\n\\nThank you very much for your understanding', 'and support \\n\\nSincerely  \\nEmily Thompson', 'Dear Mr Morgan\\n\\nI hope this email finds you well I am a student enrolled in your Data Visualization Techniques course and have a question to ask', 'Dear Mr Morgan\\n\\nI hope this email finds you well I am a student enrolled in your Data Visualization Techniques course and have a question to ask', 'Dear Mr Morgan\\n\\nI hope this email finds you well I am a student enrolled in your Data Visualization Techniques course and have a question to ask']\n",
      "['I hope this email finds you well I had been wondering if I could possibly trouble you to clarify a concept from our recent class discussion on quantum ent', 'anglement I understand that you must be very busy but I am having some difficulty grasping the intricacies of this topic Could you perhaps', 'additional study materials or resources that might help elucidate this concept further \\n\\nI would be immensely grateful for any guidance you could provide I apologize for', 'any inconvenience this request may cause I am aware that your time is valuable and I deeply appreciate your assistance\\n\\nThank you very much for your understanding', 'and support \\n\\nSincerely  \\nEmily Thompson']\n",
      "['I', 'hope', 'this', 'email', 'finds', 'you', 'well', 'I', 'had', 'been', 'wondering', 'if', 'I', 'could', 'possibly', 'trouble', 'you', 'to', 'clarify', 'a', 'concept', 'recent', 'class', 'discussion', 'on', 'quantum', 'ent', 'anglement', 'I', 'understand', 'that', 'you', 'must', 'be', 'very', 'busy', 'but', 'I', 'am', 'having', 'some', 'difficulty', 'grasping', 'the', 'intricacies', 'of', 'this', 'topic', 'Could', 'you', 'perhaps', 'additional', 'study', 'materials', 'or', 'resources', 'that', 'might', 'help', 'this', 'concept', 'further', 'I', 'would', 'be', 'immensely', 'grateful', 'for', 'any', 'guidance', 'you', 'could', 'provide', 'I', 'apologize', 'for', 'any', 'inconvenience', 'this', 'request', 'may', 'cause', 'I', 'am', 'aware', 'that', 'your', 'time', 'is', 'valuable', 'and', 'I', 'deeply', 'appreciate', 'your', 'assistance', 'Thank', 'you', 'very', 'much', 'for', 'your', 'understanding', 'and', 'support', 'Emily', 'Thompson']\n"
     ]
    }
   ],
   "source": [
    "import pandas as pd \n",
    "from utils import calculate_accepted_suggestions\n",
    "\n",
    "p, l = calculate_accepted_suggestions()\n"
   ]
  },
  {
   "cell_type": "code",
   "execution_count": 5,
   "metadata": {},
   "outputs": [
    {
     "name": "stdout",
     "output_type": "stream",
     "text": [
      "                           3-pos   1-neg\n",
      "55cff4a834e9060012e57407  0.3672  0.4795\n",
      "\n",
      "-----------------\n",
      "                                 3-pos        1-neg\n",
      "55cff4a834e9060012e57407  [708, 1928]  [525, 1095]\n"
     ]
    }
   ],
   "source": [
    "percents_df = pd.DataFrame.from_dict(orient='index', data=p)\n",
    "print(percents_df)\n",
    "lengths_df = pd.DataFrame.from_dict(orient='index', data=l)\n",
    "print(\"\\n-----------------\\n\",lengths_df)"
   ]
  },
  {
   "cell_type": "code",
   "execution_count": 6,
   "metadata": {},
   "outputs": [],
   "source": [
    "percents_df.to_csv(\"percent_accept.csv\")"
   ]
  },
  {
   "cell_type": "code",
   "execution_count": 7,
   "metadata": {},
   "outputs": [],
   "source": [
    "from utils import calculate_edits\n",
    "e = calculate_edits()\n",
    "df = pd.DataFrame.from_dict(orient='index', data=e)\n",
    "df.to_csv(\"number_of_edits.csv\")"
   ]
  },
  {
   "cell_type": "code",
   "execution_count": 8,
   "metadata": {},
   "outputs": [
    {
     "data": {
      "text/plain": [
       "531"
      ]
     },
     "execution_count": 8,
     "metadata": {},
     "output_type": "execute_result"
    }
   ],
   "source": [
    "### test ###\n",
    "t = \"\"\"guidance during our last meeting, project outline. I was wondering if you could take a look at our provide some additional insights or suggestions. Your expertise absolutely invaluable to us, and I believe your input could really elevate our presentation, product line, and I'm aiming to highlight innovative approaches that can capture our target audience's attention. If you have any recommended resources or recent studies that could further enhance our understanding, that would be fantastic! I understand you're incredibly busy, but any time you could spare to review our draft would be greatly appreciated. We're aiming to make this project as comprehensive and impactful as possible, and your guidance has always been spot-on. We're really excited about this project and your support means the world to us.\"\"\"\n",
    "t1 = \"I hope this email finds you well I had been wondering if I could possibly trouble you to clarify a concept on quantum entanglement I understand that you must be very busy but I am having some difficulty grasping the intricacies of this topic Could you perhaps additional study materials or resources that might help me to understanding this concept further I would be immensely grateful for any guidance you could provide I apologize for any inconvenience this request may cause. I am aware that your time is valuable and I deeply appreciate your assistance Thank you very much for your understanding and support Sincerely Emily Thompson\"\n",
    "s = [len(a) for a in t1.split(\" \")]\n",
    "sum(s)"
   ]
  }
 ],
 "metadata": {
  "kernelspec": {
   "display_name": "Python 3",
   "language": "python",
   "name": "python3"
  },
  "language_info": {
   "codemirror_mode": {
    "name": "ipython",
    "version": 3
   },
   "file_extension": ".py",
   "mimetype": "text/x-python",
   "name": "python",
   "nbconvert_exporter": "python",
   "pygments_lexer": "ipython3",
   "version": "3.10.12"
  }
 },
 "nbformat": 4,
 "nbformat_minor": 2
}
