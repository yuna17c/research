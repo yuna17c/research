{
 "cells": [
  {
   "cell_type": "code",
   "execution_count": 1,
   "metadata": {},
   "outputs": [],
   "source": [
    "from openai import OpenAI\n",
    "from dotenv import load_dotenv\n",
    "\n",
    "load_dotenv('../.env')\n",
    "client = OpenAI()\n",
    "\n",
    "def complete_sentence(prompt: str, temp: int = 1, max_tokens: int = 50, n: int = 3, top_p: int = 0.55) -> str:\n",
    "    response = client.chat.completions.create(\n",
    "      model=\"gpt-3.5-turbo\",\n",
    "      messages=[\n",
    "        {\"role\": \"system\", \"content\": \"You are a helpful assistant who completes the sentence of a user who is writing an email.\"},\n",
    "        {\"role\": \"user\", \"content\": prompt},\n",
    "      ],\n",
    "      temperature=temp,\n",
    "      max_tokens=max_tokens,\n",
    "      n=n,\n",
    "      top_p=top_p\n",
    "    )\n",
    "    return response\n",
    "\n",
    "response = complete_sentence(\"Hi Ms. Wexler, how are you doing? I wanted\")\n",
    "   "
   ]
  },
  {
   "cell_type": "code",
   "execution_count": 2,
   "metadata": {},
   "outputs": [
    {
     "data": {
      "text/plain": [
       "ChatCompletionMessage(content='to follow up on the project timeline.', role='assistant', function_call=None, tool_calls=None)"
      ]
     },
     "execution_count": 2,
     "metadata": {},
     "output_type": "execute_result"
    }
   ],
   "source": [
    "response.choices[0].message"
   ]
  },
  {
   "cell_type": "code",
   "execution_count": 3,
   "metadata": {},
   "outputs": [
    {
     "data": {
      "text/plain": [
       "'to follow up on the project timeline.'"
      ]
     },
     "execution_count": 3,
     "metadata": {},
     "output_type": "execute_result"
    }
   ],
   "source": [
    "response.choices[0].message.content"
   ]
  },
  {
   "cell_type": "code",
   "execution_count": 12,
   "metadata": {},
   "outputs": [],
   "source": [
    "from openai import OpenAI\n",
    "from dotenv import load_dotenv\n",
    "\n",
    "load_dotenv('../.env.local')\n",
    "client = OpenAI()\n",
    "system_content = \"\"\"\n",
    "Firstly, in a polite manner ask an alumnus of your colleague who works at a company you are interested in if they would speak with you about their company in a video call. \n",
    "Then, as the user enters text, you are a helpful assistant to add one sentene continuing the email in a polite manner asking an alumnus of you colleague who works at a company you are interested in if they would speak with you about their company in a video call.\n",
    "\"\"\"\n",
    "def generate_first_sentence(prompt: str, temp: int = 1, n: int = 3, top_p: int = 0.55) -> str:\n",
    "    response = client.chat.completions.create(\n",
    "      model=\"gpt-3.5-turbo\",\n",
    "      messages=[\n",
    "        {\"role\": \"system\", \"content\": \"You are giving user an instruction on what they should write about. In a polite manner, ask an alumnus of your colleague who works at a company you are interested in, if they would speak with you about their company in a video call.\"},\n",
    "      ],\n",
    "      temperature=temp,\n",
    "      n=n,\n",
    "      top_p=top_p\n",
    "    )\n",
    "    return response\n",
    "\n",
    "def complete_sentence(prompt: str, temp: int = 1, max_tokens: int = 30, n: int = 3, top_p: int = 0.55) -> str:\n",
    "    response = client.chat.completions.create(\n",
    "      model=\"gpt-3.5-turbo\",\n",
    "      messages=[\n",
    "        {\"role\": \"system\", \"content\": system_content},\n",
    "        {\"role\": \"system\", \"content\": \"In a polite manner, initiate the conversation.\"},\n",
    "        {\"role\": \"user\", \"content\": prompt},\n",
    "      ],\n",
    "      temperature=temp,\n",
    "      max_tokens=max_tokens,\n",
    "      n=n,\n",
    "      top_p=top_p\n",
    "    )\n",
    "    return response"
   ]
  },
  {
   "cell_type": "code",
   "execution_count": 13,
   "metadata": {},
   "outputs": [
    {
     "data": {
      "text/plain": [
       "'Hello,\\n\\nI hope this message finds you well. I am reaching out to inquire if you would be willing to spare some time for a video call to discuss your experience at [Company Name], where you currently work. I am very interested in learning more about the company and would greatly appreciate the opportunity to hear about your journey and insights.\\n\\nPlease let me know if you would be available for a brief conversation at your convenience. Your perspective would be invaluable to me as I consider potential opportunities in the future.\\n\\nThank you for considering my request, and I look forward to the possibility of connecting with you.\\n\\nBest regards, [Your Name]'"
      ]
     },
     "execution_count": 13,
     "metadata": {},
     "output_type": "execute_result"
    }
   ],
   "source": [
    "resp = generate_first_sentence(\"\")\n",
    "resp.choices[0].message.content"
   ]
  }
 ],
 "metadata": {
  "kernelspec": {
   "display_name": ".venv",
   "language": "python",
   "name": "python3"
  },
  "language_info": {
   "codemirror_mode": {
    "name": "ipython",
    "version": 3
   },
   "file_extension": ".py",
   "mimetype": "text/x-python",
   "name": "python",
   "nbconvert_exporter": "python",
   "pygments_lexer": "ipython3",
   "version": "3.9.5"
  }
 },
 "nbformat": 4,
 "nbformat_minor": 2
}
