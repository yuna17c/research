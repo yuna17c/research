{
 "cells": [
  {
   "cell_type": "code",
   "execution_count": 1,
   "metadata": {},
   "outputs": [],
   "source": [
    "import os\n",
    "from openai import AzureOpenAI\n",
    "\n",
    "client = AzureOpenAI(\n",
    "    api_key=\"56df4635dc46495f9ecb0b6ad8dcd214\",\n",
    "    api_version=\"2024-02-15-preview\",\n",
    "    azure_endpoint=\"https://watvis-openai-3.openai.azure.com/openai/deployments/gpt4/chat/completions?api-version=2024-02-15-preview\"\n",
    ")\n",
    "\n",
    "deployment_name = \"gpt4\""
   ]
  },
  {
   "cell_type": "code",
   "execution_count": 2,
   "metadata": {},
   "outputs": [],
   "source": [
    "system_instr_neg = \"\"\"\n",
    "You are a helpful writing agent who helps users complete their emails. Do not use placeholders in generation, in case of missing information, generate a seudo information to fill in the gap.\n",
    "You should use the following negative politeness strategies:\n",
    "Strategy 1: Be conventionally indirect; inquire into the hearer's ability or willingness to comply. Example: \"Can you tell me what time it is?\" \"Could you possibly pass the salt, please?\" \"Are you by any chance able to post this letter for me?\" \"I hope that you’ll please close the door.\" \"There wouldn’t, I suppose, be any chance of your being able to lend me your car for just a few minutes, would there?\"\n",
    "Strategy 2: Use hedges: words or phrases that diminish the force of a speech act. Example: \"Can I perhaps/possibly trouble you?\" \"I suppose/guess/think that Harry is coming.\" \"Would you close the window, if you don’t mind?\" \"This may not be relevant/appropriate, but…\" \"Since I’ve been wondering…\" \"By the way…\"\n",
    "Strategy 3: Use the subjunctive to express pessimism about the hearer's ability/willingness to comply. Example: \"Could (instead of can) I ask you a question?\" \"I don’t imagine/suppose there’d be any chance/possibility/hope of you…\" \"Perhaps you’d care to help me.\"\n",
    "Strategy 4: Use words or phrases that minimize the imposition, like \"just\" or \"a little.\" Example: \"I need just a little of your time.\"\n",
    "Strategy 5: Give deference by using honorifics: Sir, Mr., Ms., Dr. Example: \"Can I help you, Sir?\"\n",
    "Strategy 6: Use formal word choices to indicate seriousness and to establish social distance. Example: \"I look forward very much to dining (instead of eating) with you.\"\n",
    "Strategy 7: Apologize: admit the impingement, express reluctance. Example: \"I am sorry to bother you, but…\" \"I’m sure you must be very busy, but…\" \"I’d like to ask you a big favor…\" \"I hope this isn’t going to bother you too much…\" \"I know you’ve never bothered me, but…\"\n",
    "Strategy 8: Give overwhelming reasons. Example: \"Can you possibly help me with this, because there’s no one else I could ask.\" \"I simply can’t manage to…\"\n",
    "Strategy 9: Impersonalize the speaker and hearer by avoiding the pronouns \"I\" and \"you.\" This can be done by using the passive voice or pluralization of pronouns. Example: \"Is it possible to request a favor?\" \"It appears (to me) that…\" \"It would be appreciated if…\" \"We regret to inform you…\"\n",
    "Strategy 10: Use the past tense to create distance in time. Example: \"I had been wondering if I could ask a favor.\" \"I hoped I might ask you…\"\n",
    "Strategy 11: Nominalize (change verbs and adverbs into adjectives or nouns) to diminish the speaker's active participation. Example: \"My asking you to leave is required by regulations.\" \"It is my pleasure to be able to inform you…\"\n",
    "Strategy 12: State the FTA (Face-Threatening Act) as a general rule. Example: \"Regulations require that I ask you to leave.\"\n",
    "Strategy 13: Go on record as incurring a debt. Example: \"I’d be eternally grateful if you would…\"\n",
    "\"\"\""
   ]
  },
  {
   "cell_type": "code",
   "execution_count": 3,
   "metadata": {},
   "outputs": [],
   "source": [
    "def complete_sentence(prompt: str, temp: int = 1, max_tokens: int = 50, n: int = 3, top_p: int = 0.55) -> str:\n",
    "    response = client.chat.completions.create(\n",
    "      model=\"gpt-4o\",\n",
    "      messages=[\n",
    "        {\"role\": \"system\", \"content\": system_instr_neg},\n",
    "        {\"role\": \"system\", \"content\": \"You are a helpful assistant that use negative polite strategies to help users complete their emails. The user input is incomplete, and your job is to continue from where they left off, providing a concise completion. Do not generate from the beginning of the email, and only start from where the email is incomplete. The email task is: You are starting a research project and have learned about a senior researcher in your department whose expertise closely aligns with your topic. You believe they might be interested in collaborating but are uncertain about their availability. Please complete the email in a way that non-redundant.\"},\n",
    "        {\"role\": \"user\", \"content\": prompt},\n",
    "      ],\n",
    "      temperature=temp,\n",
    "      max_tokens=max_tokens,\n",
    "      n=n,\n",
    "      top_p=top_p\n",
    "    )\n",
    "    return response"
   ]
  },
  {
   "cell_type": "code",
   "execution_count": 4,
   "metadata": {},
   "outputs": [
    {
     "data": {
      "text/plain": [
       "'I would be eternally grateful for any assistance you might be able to offer. \\n\\nThank you very much for considering my request. I look forward to the possibility of learning from your expertise.\\n\\nBest regards,\\nEmily Carter'"
      ]
     },
     "execution_count": 4,
     "metadata": {},
     "output_type": "execute_result"
    }
   ],
   "source": [
    "response = complete_sentence(\"Hello, I hope this message finds you well. I am writing to introduce myself; my name is Emily Carter, and I am a graduate student in the Department of Environmental Science. I have recently embarked on a research project focusing on sustainable agricultural practices, an area in which I understand you have considerable expertise. Given your extensive background and contributions to this field, I was wondering if there might be any possibility of discussing potential collaboration or guidance on my project. I realize that your schedule is likely very busy, but I would be immensely grateful if you could spare a little time to discuss this with me. Perhaps you might be available for a brief meeting at your convenience? Your insights and experience would be invaluable to the development and success of my research. I understand that this request may impose on your time, and I sincerely apologize for any inconvenience. However, I believe that your guidance could significantly enhance the quality and impact of my work. If you are perhaps available for a short meeting, could you kindly let me know a time that suits you best? Alternatively, if there are any materials or initial advice you could provide via email, that would also be greatly appreciated. Thank you very much for considering my request.\")\n",
    "response.choices[0].message.content"
   ]
  }
 ],
 "metadata": {
  "kernelspec": {
   "display_name": "Python 3",
   "language": "python",
   "name": "python3"
  },
  "language_info": {
   "codemirror_mode": {
    "name": "ipython",
    "version": 3
   },
   "file_extension": ".py",
   "mimetype": "text/x-python",
   "name": "python",
   "nbconvert_exporter": "python",
   "pygments_lexer": "ipython3",
   "version": "3.9.5"
  }
 },
 "nbformat": 4,
 "nbformat_minor": 2
}
